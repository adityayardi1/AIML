{
 "cells": [
  {
   "cell_type": "markdown",
   "metadata": {},
   "source": [
    "#### Aim:\n",
    "\n",
    "Recognizing multi-digit numbers in photographs captured at street level is an important component of modern-day map making.\n",
    "\n",
    "A classic example of a corpus of such street level photographs was considered for case study: Google’s Street View imagery comprised of hundreds of millions of geo-located 360 degree panoramic images. \n",
    "\n",
    "The ability to automatically transcribe an address number from a geo-located patch of pixels and associate the transcribed number with a known street address helps pinpoint, with a high degree of accuracy, the location of the building it represents. "
   ]
  },
  {
   "cell_type": "markdown",
   "metadata": {},
   "source": [
    "##### Description:\n",
    "\n",
    "In this hands-on project the goal isto build a python code for image classification from scratch to understand the nitty gritties of building and training a model and further to understand the advantages of neural networks. \n",
    "\n",
    "First we will implement a simple KNN classifier and later implement a Neural Network to classify the images in the SVHN dataset. \n",
    "\n",
    "We will compare the computational efficiency and accuracy between the traditional methods and neural networks. "
   ]
  },
  {
   "cell_type": "markdown",
   "metadata": {},
   "source": [
    "##### Dataset:\n",
    "\n",
    "SVHN is a real-world image dataset for developing machine learning and object recognition algorithms with minimal requirement on data formattingbut comes from a significantly harder, unsolved, real world problem (recognizing digits and numbers in natural scene images). \n",
    "\n",
    "SVHN is obtained from house numbers in Google Street View images.  "
   ]
  },
  {
   "cell_type": "code",
   "execution_count": 0,
   "metadata": {
    "colab": {},
    "colab_type": "code",
    "id": "BApX9qgNsqV0",
    "scrolled": true
   },
   "outputs": [],
   "source": [
    "import h5py\n",
    "import numpy as np\n",
    "\n",
    "# Open the file as readonly\n",
    "h5f = h5py.File('/content/drive/My Drive/Neural Networks/SVHN_single_grey1.h5', 'r')\n",
    "\n",
    "# Load the training, test and validation set\n",
    "X_train = h5f['X_train'][:]\n",
    "y_train1 = h5f['y_train'][:]\n",
    "X_test = h5f['X_test'][:]\n",
    "y_test1 = h5f['y_test'][:]\n",
    "\n",
    "\n",
    "# Close this file\n",
    "h5f.close()"
   ]
  },
  {
   "cell_type": "code",
   "execution_count": 3,
   "metadata": {
    "colab": {
     "base_uri": "https://localhost:8080/",
     "height": 34
    },
    "colab_type": "code",
    "id": "f0vPUGcf26Og",
    "outputId": "50a7ac93-3658-45d9-ad0b-4539aec3ddc4"
   },
   "outputs": [
    {
     "name": "stdout",
     "output_type": "stream",
     "text": [
      "Drive already mounted at /content/drive; to attempt to forcibly remount, call drive.mount(\"/content/drive\", force_remount=True).\n"
     ]
    }
   ],
   "source": [
    "from google.colab import drive\n",
    "drive.mount('/content/drive')\n",
    "import os"
   ]
  },
  {
   "cell_type": "code",
   "execution_count": 4,
   "metadata": {
    "colab": {
     "base_uri": "https://localhost:8080/",
     "height": 34
    },
    "colab_type": "code",
    "id": "aTeAO8HpsqV8",
    "outputId": "7c15bbda-05d2-42ed-923d-ed4450ceee7b"
   },
   "outputs": [
    {
     "name": "stderr",
     "output_type": "stream",
     "text": [
      "Using TensorFlow backend.\n"
     ]
    }
   ],
   "source": [
    "## Importing the required libraries\n",
    "import numpy as np\n",
    "from keras.datasets import mnist\n",
    "from keras.models import Sequential\n",
    "from keras.layers import Dense\n",
    "from keras.utils import np_utils\n",
    "\n",
    "# fix random seed for reproducibility\n",
    "seed = 7\n",
    "np.random.seed(seed)"
   ]
  },
  {
   "cell_type": "code",
   "execution_count": 5,
   "metadata": {
    "colab": {
     "base_uri": "https://localhost:8080/",
     "height": 115
    },
    "colab_type": "code",
    "id": "Bvsc8ytHsqWD",
    "outputId": "39e5f3c8-329c-4541-c2ac-9fe3598e7b23"
   },
   "outputs": [
    {
     "data": {
      "image/png": "[encoded data removed]",
      "text/plain": [
       "<Figure size 720x72 with 10 Axes>"
      ]
     },
     "metadata": {
      "tags": []
     },
     "output_type": "display_data"
    },
    {
     "name": "stdout",
     "output_type": "stream",
     "text": [
      "label for each of the above image: [2 6 7 4 4 0 3 0 7 3]\n"
     ]
    }
   ],
   "source": [
    "# visualizing the first 10 images in the dataset and their labels\n",
    "%matplotlib inline\n",
    "import matplotlib.pyplot as plt\n",
    "plt.figure(figsize=(10, 1))\n",
    "for i in range(10):\n",
    "    plt.subplot(1, 10, i+1)\n",
    "    plt.imshow(X_train[i], cmap=\"gray\")\n",
    "    plt.axis('off')\n",
    "plt.show()\n",
    "print('label for each of the above image: %s' % (y_train1[0:10]))"
   ]
  },
  {
   "cell_type": "code",
   "execution_count": 6,
   "metadata": {
    "colab": {
     "base_uri": "https://localhost:8080/",
     "height": 51
    },
    "colab_type": "code",
    "id": "D9YPwf9ysqWU",
    "outputId": "2224f4ca-aa8f-4e81-da5e-692e6d40cbe9"
   },
   "outputs": [
    {
     "name": "stdout",
     "output_type": "stream",
     "text": [
      "Training set (42000, 1024) (42000,)\n",
      "Test set (18000, 1024) (18000,)\n"
     ]
    }
   ],
   "source": [
    "X_train = X_train.reshape(X_train.shape[0], 1024)\n",
    "X_test = X_test.reshape(X_test.shape[0], 1024)\n",
    "\n",
    "# # normalize inputs from 0-255 to 0-1\n",
    "X_train = X_train / 255.0\n",
    "X_test = X_test / 255.0\n",
    "\n",
    "print('Training set', X_train.shape, y_train1.shape)\n",
    "print('Test set', X_test.shape, y_test1.shape)"
   ]
  },
  {
   "cell_type": "code",
   "execution_count": 7,
   "metadata": {
    "colab": {
     "base_uri": "https://localhost:8080/",
     "height": 51
    },
    "colab_type": "code",
    "id": "H4kHHMqCsqWf",
    "outputId": "4533e6af-a696-4ac7-b989-2bfa193f962e"
   },
   "outputs": [
    {
     "name": "stdout",
     "output_type": "stream",
     "text": [
      "(18000, 1024)\n",
      "(18000,)\n"
     ]
    }
   ],
   "source": [
    "print(X_test.shape)\n",
    "print(y_test1.shape)"
   ]
  },
  {
   "cell_type": "code",
   "execution_count": 0,
   "metadata": {
    "colab": {},
    "colab_type": "code",
    "id": "zL0lYER4sqWw"
   },
   "outputs": [],
   "source": [
    "# one hot encode outputs\n",
    "y_train = np_utils.to_categorical(y_train1)\n",
    "y_test = np_utils.to_categorical(y_test1)\n",
    "\n",
    "# no.of classes\n",
    "num_classes = y_test.shape[1]\n",
    "num_hidden = 32"
   ]
  },
  {
   "cell_type": "code",
   "execution_count": 9,
   "metadata": {
    "colab": {
     "base_uri": "https://localhost:8080/",
     "height": 34
    },
    "colab_type": "code",
    "id": "EnOsi1o0sqW1",
    "outputId": "e08a127d-9231-4054-b5c8-1156e151dcdf"
   },
   "outputs": [
    {
     "data": {
      "text/plain": [
       "10"
      ]
     },
     "execution_count": 9,
     "metadata": {
      "tags": []
     },
     "output_type": "execute_result"
    }
   ],
   "source": [
    "num_classes"
   ]
  },
  {
   "cell_type": "code",
   "execution_count": 0,
   "metadata": {
    "colab": {},
    "colab_type": "code",
    "id": "ars5ie87jCgL"
   },
   "outputs": [],
   "source": [
    "x_tr = []\n",
    "for i in range(42000):\n",
    "    x_tr.append(X_train[i,:].flatten())\n",
    "x_te = []\n",
    "for i in range(18000):\n",
    "    x_te.append(X_test[i,:].flatten())"
   ]
  },
  {
   "cell_type": "code",
   "execution_count": 0,
   "metadata": {
    "colab": {},
    "colab_type": "code",
    "id": "mzTBd-KIlTDu"
   },
   "outputs": [],
   "source": [
    "x_tr =x_tr[:2000]\n",
    "x_te =x_te[:2000]"
   ]
  },
  {
   "cell_type": "code",
   "execution_count": 0,
   "metadata": {
    "colab": {},
    "colab_type": "code",
    "id": "zkl53rqKlva2"
   },
   "outputs": [],
   "source": [
    "y_tr = y_train1[0:2000]\n",
    "y_te = y_test1[0:2000]"
   ]
  },
  {
   "cell_type": "code",
   "execution_count": 13,
   "metadata": {
    "colab": {
     "base_uri": "https://localhost:8080/",
     "height": 85
    },
    "colab_type": "code",
    "id": "Hu7wmUi6mAZl",
    "outputId": "a4cd46d9-0ecd-41b4-cc53-18093e46a290"
   },
   "outputs": [
    {
     "name": "stdout",
     "output_type": "stream",
     "text": [
      "2000\n",
      "2000\n",
      "2000\n",
      "2000\n"
     ]
    }
   ],
   "source": [
    "print(len(x_tr))\n",
    "print(len(y_tr))\n",
    "print(len(x_te))\n",
    "print(len(y_tr))"
   ]
  },
  {
   "cell_type": "code",
   "execution_count": 0,
   "metadata": {
    "colab": {},
    "colab_type": "code",
    "id": "ZTdelFs_QzdC"
   },
   "outputs": [],
   "source": [
    "a =[]\n",
    "j = []\n",
    "def knnvalue(k):\n",
    "    from sklearn.neighbors import KNeighborsClassifier\n",
    "    NNH = KNeighborsClassifier(n_neighbors= k , weights = 'uniform', metric='euclidean')\n",
    "    NNH.fit(x_tr, y_tr)\n",
    "    predicted_labels = NNH.predict(x_te)\n",
    "    from sklearn.metrics import accuracy_score\n",
    "    ascore = accuracy_score(y_te, predicted_labels)\n",
    "    MSE = 1-ascore\n",
    "    a.append(MSE)\n",
    "    j.append(k)\n",
    "    print(ascore)"
   ]
  },
  {
   "cell_type": "code",
   "execution_count": 48,
   "metadata": {
    "colab": {
     "base_uri": "https://localhost:8080/",
     "height": 272
    },
    "colab_type": "code",
    "id": "CaCIu2wuZs7O",
    "outputId": "e96a8e92-58e3-4950-c9c9-0d4b06556625"
   },
   "outputs": [
    {
     "name": "stdout",
     "output_type": "stream",
     "text": [
      "0.2975\n",
      "0.292\n",
      "0.3015\n",
      "0.307\n",
      "0.3055\n",
      "0.311\n",
      "0.2975\n",
      "0.294\n",
      "0.2975\n",
      "0.2935\n",
      "0.2945\n",
      "0.2955\n",
      "0.2865\n",
      "0.2805\n",
      "0.279\n"
     ]
    }
   ],
   "source": [
    "for i in range(1,30,2):\n",
    "    knnvalue(i)"
   ]
  },
  {
   "cell_type": "code",
   "execution_count": 0,
   "metadata": {
    "colab": {},
    "colab_type": "code",
    "id": "1gO3X5Pka2U4"
   },
   "outputs": [],
   "source": [
    "#From the above run, the max accuracy is attained at k value of 1. Now lets train the model for k value of \n",
    "#30 and print the metrics\n",
    "from sklearn.neighbors import KNeighborsClassifier\n",
    "NNH = KNeighborsClassifier(n_neighbors= 11 , weights = 'uniform', metric='euclidean')\n",
    "NNH.fit(x_tr, y_tr)\n",
    "pred=NNH.predict(x_te)"
   ]
  },
  {
   "cell_type": "code",
   "execution_count": 53,
   "metadata": {
    "colab": {
     "base_uri": "https://localhost:8080/",
     "height": 34
    },
    "colab_type": "code",
    "id": "0vgUqavlvUvm",
    "outputId": "32b4ff63-c3fb-4e5d-c125-18b256a11800"
   },
   "outputs": [
    {
     "data": {
      "text/plain": [
       "6"
      ]
     },
     "execution_count": 53,
     "metadata": {
      "tags": []
     },
     "output_type": "execute_result"
    }
   ],
   "source": [
    "pred[0]"
   ]
  },
  {
   "cell_type": "code",
   "execution_count": 54,
   "metadata": {
    "colab": {
     "base_uri": "https://localhost:8080/",
     "height": 34
    },
    "colab_type": "code",
    "id": "3H35P7QvwVtY",
    "outputId": "73c95c6b-be96-4098-e3ef-53607b9e85d9"
   },
   "outputs": [
    {
     "data": {
      "text/plain": [
       "1"
      ]
     },
     "execution_count": 54,
     "metadata": {
      "tags": []
     },
     "output_type": "execute_result"
    }
   ],
   "source": [
    "y_test1[0]"
   ]
  },
  {
   "cell_type": "code",
   "execution_count": 55,
   "metadata": {
    "colab": {
     "base_uri": "https://localhost:8080/",
     "height": 187
    },
    "colab_type": "code",
    "id": "5XX-L6jnzV9-",
    "outputId": "20abea5f-71bd-413b-d1c0-7bc6170e11a6"
   },
   "outputs": [
    {
     "data": {
      "text/plain": [
       "array([[105,  15,  16,  25,  17,  34,  35,  11,  50,  55],\n",
       "       [ 17, 101,  29,  33,  32,  30,  22,  25,  19,  17],\n",
       "       [ 14,  14,  73,  23,  18,  22,  21,  49,  20,  23],\n",
       "       [ 10,  10,  14,  36,   9,  15,  22,  23,  16,   9],\n",
       "       [ 12,  17,  11,  10,  93,  15,  17,  13,  17,  14],\n",
       "       [ 10,   6,   5,  24,   6,  43,  11,   3,  10,  14],\n",
       "       [ 25,   9,   8,  11,  10,  21,  51,  10,  29,  16],\n",
       "       [  4,   8,  16,  12,   7,   4,   5,  65,   1,  10],\n",
       "       [  7,   2,   3,   4,   2,  11,   4,   0,  19,   8],\n",
       "       [ 17,   3,  12,   7,  10,  16,  14,   6,  17,  36]])"
      ]
     },
     "execution_count": 55,
     "metadata": {
      "tags": []
     },
     "output_type": "execute_result"
    }
   ],
   "source": [
    "from sklearn.metrics import confusion_matrix\n",
    "confusion_matrix(pred,y_te)"
   ]
  },
  {
   "cell_type": "markdown",
   "metadata": {
    "colab_type": "text",
    "id": "RGWJ1trlxHm9"
   },
   "source": [
    "The accuracy of the KNN model is very poor. The max accuracy is obtained (or the lowest MSE) is attained at k =11. Even then, the accuracy is close to 30%"
   ]
  },
  {
   "cell_type": "markdown",
   "metadata": {
    "colab_type": "text",
    "id": "UJDUoaEj1d6e"
   },
   "source": [
    "## Neural Network Model"
   ]
  },
  {
   "cell_type": "code",
   "execution_count": 0,
   "metadata": {
    "colab": {},
    "colab_type": "code",
    "id": "MmKU7JeWz23r"
   },
   "outputs": [],
   "source": [
    "from keras.layers import BatchNormalization"
   ]
  },
  {
   "cell_type": "code",
   "execution_count": null,
   "metadata": {},
   "outputs": [],
   "source": []
  },
  {
   "cell_type": "code",
   "execution_count": 63,
   "metadata": {
    "colab": {
     "base_uri": "https://localhost:8080/",
     "height": 1394
    },
    "colab_type": "code",
    "id": "Cmi81Gr5sqW-",
    "outputId": "f49eeb6f-87ce-4e09-fd82-426842c7a79e"
   },
   "outputs": [
    {
     "name": "stdout",
     "output_type": "stream",
     "text": [
      "Train on 42000 samples, validate on 18000 samples\n",
      "Epoch 1/30\n",
      " - 2s - loss: 1.5298 - acc: 0.4847 - val_loss: 1.0465 - val_acc: 0.6742\n",
      "Epoch 2/30\n",
      " - 2s - loss: 0.9724 - acc: 0.6959 - val_loss: 0.9098 - val_acc: 0.7159\n",
      "Epoch 3/30\n",
      " - 2s - loss: 0.8173 - acc: 0.7486 - val_loss: 0.8234 - val_acc: 0.7464\n",
      "Epoch 4/30\n",
      " - 2s - loss: 0.7333 - acc: 0.7725 - val_loss: 0.7403 - val_acc: 0.7778\n",
      "Epoch 5/30\n",
      " - 2s - loss: 0.6619 - acc: 0.7968 - val_loss: 0.7220 - val_acc: 0.7846\n",
      "Epoch 6/30\n",
      " - 2s - loss: 0.6083 - acc: 0.8104 - val_loss: 0.7070 - val_acc: 0.7962\n",
      "Epoch 7/30\n",
      " - 2s - loss: 0.5786 - acc: 0.8202 - val_loss: 0.6481 - val_acc: 0.8099\n",
      "Epoch 8/30\n",
      " - 2s - loss: 0.5403 - acc: 0.8329 - val_loss: 0.6509 - val_acc: 0.8126\n",
      "Epoch 9/30\n",
      " - 2s - loss: 0.5109 - acc: 0.8408 - val_loss: 0.6444 - val_acc: 0.8160\n",
      "Epoch 10/30\n",
      " - 2s - loss: 0.4877 - acc: 0.8485 - val_loss: 0.6588 - val_acc: 0.8126\n",
      "Epoch 11/30\n",
      " - 2s - loss: 0.4643 - acc: 0.8529 - val_loss: 0.6406 - val_acc: 0.8177\n",
      "Epoch 12/30\n",
      " - 2s - loss: 0.4480 - acc: 0.8608 - val_loss: 0.6453 - val_acc: 0.8187\n",
      "Epoch 13/30\n",
      " - 2s - loss: 0.4318 - acc: 0.8632 - val_loss: 0.6726 - val_acc: 0.8109\n",
      "Epoch 14/30\n",
      " - 2s - loss: 0.4124 - acc: 0.8691 - val_loss: 0.6311 - val_acc: 0.8205\n",
      "Epoch 15/30\n",
      " - 2s - loss: 0.3985 - acc: 0.8751 - val_loss: 0.6291 - val_acc: 0.8218\n",
      "Epoch 16/30\n",
      " - 2s - loss: 0.3805 - acc: 0.8801 - val_loss: 0.6128 - val_acc: 0.8287\n",
      "Epoch 17/30\n",
      " - 2s - loss: 0.3805 - acc: 0.8801 - val_loss: 0.6206 - val_acc: 0.8312\n",
      "Epoch 18/30\n",
      " - 2s - loss: 0.3615 - acc: 0.8860 - val_loss: 0.6350 - val_acc: 0.8289\n",
      "Epoch 19/30\n",
      " - 2s - loss: 0.3604 - acc: 0.8860 - val_loss: 0.6182 - val_acc: 0.8368\n",
      "Epoch 20/30\n",
      " - 2s - loss: 0.3407 - acc: 0.8925 - val_loss: 0.6386 - val_acc: 0.8293\n",
      "Epoch 21/30\n",
      " - 2s - loss: 0.3297 - acc: 0.8954 - val_loss: 0.6016 - val_acc: 0.8418\n",
      "Epoch 22/30\n",
      " - 2s - loss: 0.3177 - acc: 0.8996 - val_loss: 0.6316 - val_acc: 0.8340\n",
      "Epoch 23/30\n",
      " - 2s - loss: 0.3191 - acc: 0.8987 - val_loss: 0.6385 - val_acc: 0.8288\n",
      "Epoch 24/30\n",
      " - 2s - loss: 0.3109 - acc: 0.9017 - val_loss: 0.6350 - val_acc: 0.8348\n",
      "Epoch 25/30\n",
      " - 2s - loss: 0.3013 - acc: 0.9042 - val_loss: 0.6312 - val_acc: 0.8364\n",
      "Epoch 26/30\n",
      " - 2s - loss: 0.2984 - acc: 0.9055 - val_loss: 0.6335 - val_acc: 0.8366\n",
      "Epoch 27/30\n",
      " - 2s - loss: 0.2920 - acc: 0.9078 - val_loss: 0.6278 - val_acc: 0.8401\n",
      "Epoch 28/30\n",
      " - 2s - loss: 0.2762 - acc: 0.9127 - val_loss: 0.6196 - val_acc: 0.8439\n",
      "Epoch 29/30\n",
      " - 2s - loss: 0.2785 - acc: 0.9110 - val_loss: 0.6385 - val_acc: 0.8411\n",
      "Epoch 30/30\n",
      " - 2s - loss: 0.2697 - acc: 0.9141 - val_loss: 0.6711 - val_acc: 0.8357\n",
      "Error: 16.43%\n",
      "_________________________________________________________________\n",
      "Layer (type)                 Output Shape              Param #   \n",
      "=================================================================\n",
      "batch_normalization_3 (Batch (None, 1024)              4096      \n",
      "_________________________________________________________________\n",
      "dense_11 (Dense)             (None, 256)               262400    \n",
      "_________________________________________________________________\n",
      "dense_12 (Dense)             (None, 64)                16448     \n",
      "_________________________________________________________________\n",
      "dense_13 (Dense)             (None, 64)                4160      \n",
      "_________________________________________________________________\n",
      "dense_14 (Dense)             (None, 32)                2080      \n",
      "_________________________________________________________________\n",
      "dense_15 (Dense)             (None, 10)                330       \n",
      "=================================================================\n",
      "Total params: 289,514\n",
      "Trainable params: 287,466\n",
      "Non-trainable params: 2,048\n",
      "_________________________________________________________________\n"
     ]
    }
   ],
   "source": [
    "# define model\n",
    "import keras\n",
    "from keras import losses\n",
    "from keras import optimizers\n",
    "from keras.layers import Dropout, MaxPooling2D\n",
    "\n",
    "\n",
    "\n",
    "def nn_model():\n",
    "    # create model\n",
    "    model = Sequential()  \n",
    "    model.add(BatchNormalization(input_shape = (1024,)))  ### Batch_Norm Layer\n",
    "    \n",
    "    model.add(Dense(256, activation='relu')) ###Multiple Dense units with Relu activation\n",
    "    model.add(Dense(64, activation='relu'))\n",
    "    model.add(Dense(64, activation='relu'))\n",
    "    model.add(Dense(32, activation='relu'))\n",
    "    model.add(Dense(num_classes, activation='softmax'))\n",
    "    \n",
    "    # Compile model\n",
    "    sgd = optimizers.Adam(lr=1e-3)\n",
    "    model.compile(loss=losses.categorical_crossentropy, optimizer=sgd, metrics=['accuracy']) ### Loss function = Categorical cross entropy\n",
    "    return model\n",
    "\n",
    "# build the model\n",
    "model = nn_model()\n",
    "\n",
    "# Fit the model\n",
    "model.fit(X_train, y_train, validation_data=(X_test, y_test), epochs=30, batch_size=200, verbose=2)\n",
    "\n",
    "# Final evaluation of the model\n",
    "scores = model.evaluate(X_test, y_test, verbose=0)\n",
    "\n",
    "print(\"Error: %.2f%%\" % (100-scores[1]*100))\n",
    "\n",
    "model.summary()"
   ]
  },
  {
   "cell_type": "markdown",
   "metadata": {
    "colab_type": "text",
    "id": "BV8dco0T07eU"
   },
   "source": [
    "#### <u>Inference</u>\n",
    "\n",
    "Deep Learning model is able to work with huge amount of data, particularly, multi - dimensional data and was able to perform better than that of traditional KNN model\n",
    "\n",
    "#### Summary: \n",
    "The SVHN Dataset contained multiple digit images in different colors, sizes and orientation. Data augmentation: cropping, scaling and shearing would have produced better result.\n"
   ]
  },
  {
   "cell_type": "code",
   "execution_count": null,
   "metadata": {},
   "outputs": [],
   "source": []
  }
 ],
 "metadata": {
  "accelerator": "GPU",
  "colab": {
   "collapsed_sections": [],
   "name": "SVHN_NN_Solution.ipynb",
   "provenance": [],
   "version": "0.3.2"
  },
  "kernelspec": {
   "display_name": "Python 3",
   "language": "python",
   "name": "python3"
  },
  "language_info": {
   "codemirror_mode": {
    "name": "ipython",
    "version": 3
   },
   "file_extension": ".py",
   "mimetype": "text/x-python",
   "name": "python",
   "nbconvert_exporter": "python",
   "pygments_lexer": "ipython3",
   "version": "3.7.4"
  }
 },
 "nbformat": 4,
 "nbformat_minor": 1
}
