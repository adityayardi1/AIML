{
 "cells": [
  {
   "cell_type": "markdown",
   "metadata": {},
   "source": [
    "# Natural Language Processing Project - Seq NLP"
   ]
  },
  {
   "cell_type": "markdown",
   "metadata": {
    "colab_type": "text",
    "id": "xT7MKZuMRaCg"
   },
   "source": [
    "### Sentiment Classification\n",
    "\n",
    "### Aim\n",
    "\n",
    "1. Build a Sequential Model using Keras for Sentiment Classification task. \n",
    "2. Report the Accuracy of the model. \n",
    "3. Retrive the output of each layer in keras for a given single test sample from the trained model you built.\n",
    "\n",
    "\n",
    "##### Generate Word Embeddings and retrieve outputs of each layer with Keras based on Classification task\n",
    "\n",
    "Word embeddings are a type of word representation that allows words with similar meaning to have a similar representation.\n",
    "\n",
    "It is a distributed representation for text that is perhaps one of the key breakthroughs for the impressive performance of deep learning methods on challenging natural language processing problems.\n",
    "\n",
    "We willl use the imdb dataset to learn word embeddings as we train our dataset. This dataset contains 25,000 movie reviews from IMDB, labeled with sentiment (positive or negative). \n",
    "\n",
    "\n",
    "\n",
    "##### Dataset\n",
    "\n",
    "`from keras.datasets import imdb`\n",
    "\n",
    "Dataset of 25,000 movies reviews from IMDB, labeled by sentiment (positive/negative). Reviews have been preprocessed, and each review is encoded as a sequence of word indexes (integers). For convenience, the words are indexed by their frequency in the dataset, meaning the for that has index 1 is the most frequent word. Use the first 20 words from each review to speed up training, using a max vocab size of 10,000.\n",
    "\n",
    "As a convention, \"0\" does not stand for a specific word, but instead is used to encode any unknown word."
   ]
  },
  {
   "cell_type": "markdown",
   "metadata": {
    "colab_type": "text",
    "id": "Wq4RCyyPSYRp"
   },
   "source": [
    "##### Step 1: Loading Dataset"
   ]
  },
  {
   "cell_type": "code",
   "execution_count": 0,
   "metadata": {
    "colab": {},
    "colab_type": "code",
    "id": "NGCtiXUhSWss"
   },
   "outputs": [],
   "source": [
    "from keras.datasets import imdb\n",
    "\n",
    "vocab_size = 10000 #vocab size\n",
    "\n",
    "(x_train, y_train), (x_test, y_test) = imdb.load_data(num_words=vocab_size) # vocab_size is no.of words to consider from the dataset, ordering based on frequency."
   ]
  },
  {
   "cell_type": "code",
   "execution_count": 0,
   "metadata": {
    "colab": {
     "base_uri": "https://localhost:8080/",
     "height": 68
    },
    "colab_type": "code",
    "id": "e2Gzg7ENRaCh",
    "outputId": "a3b009fc-6b80-4d09-982b-c09fe493c6f8"
   },
   "outputs": [
    {
     "name": "stderr",
     "output_type": "stream",
     "text": [
      "Using TensorFlow backend.\n"
     ]
    },
    {
     "name": "stdout",
     "output_type": "stream",
     "text": [
      "Downloading data from https://s3.amazonaws.com/text-datasets/imdb.npz\n",
      "17465344/17464789 [==============================] - 1s 0us/step\n"
     ]
    }
   ],
   "source": [
    "from keras.datasets import imdb\n",
    "from keras.preprocessing.sequence import pad_sequences\n",
    "vocab_size = 10000 #vocab size\n",
    "maxlen = 300  #number of word used from each review\n",
    "#load dataset as a list of ints\n",
    "(x_train, y_train), (x_test, y_test) = imdb.load_data(num_words=vocab_size)\n",
    "#make all sequences of the same length\n",
    "x_train = pad_sequences(x_train, maxlen=maxlen)\n",
    "x_test =  pad_sequences(x_test, maxlen=maxlen)"
   ]
  },
  {
   "cell_type": "code",
   "execution_count": 0,
   "metadata": {
    "colab": {
     "base_uri": "https://localhost:8080/",
     "height": 34
    },
    "colab_type": "code",
    "id": "hdMCUPr7RaCm",
    "outputId": "23543aa5-f4f7-41c9-961d-aff605ca40b2"
   },
   "outputs": [
    {
     "data": {
      "text/plain": [
       "(25000, 300)"
      ]
     },
     "execution_count": 2,
     "metadata": {
      "tags": []
     },
     "output_type": "execute_result"
    }
   ],
   "source": [
    "x_train.shape #number of review, number of words in each review"
   ]
  },
  {
   "cell_type": "markdown",
   "metadata": {
    "colab_type": "text",
    "id": "N_STwHZvRaCp"
   },
   "source": [
    "To take a look at the review and sentiment:"
   ]
  },
  {
   "cell_type": "code",
   "execution_count": 0,
   "metadata": {
    "colab": {},
    "colab_type": "code",
    "id": "IdbI7Ar1RaCr"
   },
   "outputs": [],
   "source": [
    "(training_data, training_labels), (test_data, test_labels)= imdb.load_data(num_words=vocab_size, index_from=3)"
   ]
  },
  {
   "cell_type": "code",
   "execution_count": 0,
   "metadata": {
    "colab": {
     "base_uri": "https://localhost:8080/",
     "height": 51
    },
    "colab_type": "code",
    "id": "pmbUpD_TRaCs",
    "outputId": "e33e691a-0ca7-4c18-fcf6-9833c5c34c33"
   },
   "outputs": [
    {
     "name": "stdout",
     "output_type": "stream",
     "text": [
      "Downloading data from https://s3.amazonaws.com/text-datasets/imdb_word_index.json\n",
      "1646592/1641221 [==============================] - 0s 0us/step\n"
     ]
    }
   ],
   "source": [
    "word_to_id = imdb.get_word_index()\n",
    "word_to_id = {k:(v+3) for k,v in word_to_id.items()}\n",
    "word_to_id[\"<PAD>\"] = 0\n",
    "word_to_id[\"<START>\"] = 1\n",
    "word_to_id[\"<UNK>\"] = 2"
   ]
  },
  {
   "cell_type": "code",
   "execution_count": 0,
   "metadata": {
    "colab": {
     "base_uri": "https://localhost:8080/",
     "height": 71
    },
    "colab_type": "code",
    "id": "UTVDwSvtRaCv",
    "outputId": "95c29103-f886-40a0-fd68-6f08d0eb24c6"
   },
   "outputs": [
    {
     "name": "stdout",
     "output_type": "stream",
     "text": [
      "<START> lavish production values and solid performances in this straightforward adaption of jane <UNK> satirical classic about the marriage game within and between the classes in <UNK> 18th century england northam and paltrow are a <UNK> mixture as friends who must pass through <UNK> and lies to discover that they love each other good humor is a <UNK> virtue which goes a long way towards explaining the <UNK> of the aged source material which has been toned down a bit in its harsh <UNK> i liked the look of the film and how shots were set up and i thought it didn't rely too much on <UNK> of head shots like most other films of the 80s and 90s do very good results\n",
      "The sentiment is: 1\n"
     ]
    }
   ],
   "source": [
    "id_to_word = {value:key for key,value in word_to_id.items()}\n",
    "print(' '.join(id_to_word[id] for id in training_data[6] ))\n",
    "print('The sentiment is:', training_labels[6])"
   ]
  },
  {
   "cell_type": "markdown",
   "metadata": {
    "colab_type": "text",
    "id": "OYyXpMmBRaC0"
   },
   "source": [
    "Here is a postive review number 6 from the training set. "
   ]
  },
  {
   "cell_type": "markdown",
   "metadata": {
    "colab_type": "text",
    "id": "wpsrjSdgRaC0"
   },
   "source": [
    "##### Step 2: Build Keras Embedding Layer Model\n",
    "We can think of the Embedding layer as a dicionary that maps a index assigned to a word to a word vector. This layer is very flexible and can be used in a few ways:\n",
    "\n",
    "* The embedding layer can be used at the start of a larger deep learning model. \n",
    "* Also we could load pre-train word embeddings into the embedding layer when we create our model.\n",
    "* Use the embedding layer to train our own word2vec models.\n",
    "\n",
    "The keras embedding layer doesn't require us to onehot encode our words, instead we have to give each word a unqiue intger number as an id. For the imdb dataset we've loaded this has already been done, but if this wasn't the case we could use sklearn [LabelEncoder](http://scikit-learn.org/stable/modules/generated/sklearn.preprocessing.LabelEncoder.html)."
   ]
  },
  {
   "cell_type": "code",
   "execution_count": 0,
   "metadata": {
    "colab": {
     "base_uri": "https://localhost:8080/",
     "height": 340
    },
    "colab_type": "code",
    "id": "_d0SgmGLRaC1",
    "outputId": "ae676a29-13c1-4b7f-cbde-7beec346c8ff"
   },
   "outputs": [
    {
     "name": "stdout",
     "output_type": "stream",
     "text": [
      "_________________________________________________________________\n",
      "Layer (type)                 Output Shape              Param #   \n",
      "=================================================================\n",
      "embedding_3 (Embedding)      (None, 300, 100)          1000000   \n",
      "_________________________________________________________________\n",
      "lstm_3 (LSTM)                (None, 300, 64)           42240     \n",
      "_________________________________________________________________\n",
      "time_distributed_2 (TimeDist (None, 300, 100)          6500      \n",
      "_________________________________________________________________\n",
      "flatten_1 (Flatten)          (None, 30000)             0         \n",
      "_________________________________________________________________\n",
      "dense_3 (Dense)              (None, 250)               7500250   \n",
      "_________________________________________________________________\n",
      "dense_4 (Dense)              (None, 1)                 251       \n",
      "=================================================================\n",
      "Total params: 8,549,241\n",
      "Trainable params: 8,549,241\n",
      "Non-trainable params: 0\n",
      "_________________________________________________________________\n"
     ]
    }
   ],
   "source": [
    "import time\n",
    "from keras.models import Sequential\n",
    "from keras.layers import Flatten, Dense, Embedding\n",
    "from keras.layers import LSTM, TimeDistributed\n",
    "model = Sequential()\n",
    "model.add(Embedding(10000, 100, input_length=maxlen)) #10000 for vocab size, 8 for dimensionality of embedding\n",
    "model.add(LSTM(64, activation='relu', return_sequences=True))\n",
    "model.add(TimeDistributed(Dense(100)))\n",
    "model.add(Flatten())\n",
    "model.add(Dense(250, activation='relu'))\n",
    "model.add(Dense(1, activation='sigmoid'))\n",
    "model.compile(optimizer='adam', loss='binary_crossentropy', metrics=['acc'])\n",
    "model.summary()"
   ]
  },
  {
   "cell_type": "code",
   "execution_count": 0,
   "metadata": {
    "colab": {
     "base_uri": "https://localhost:8080/",
     "height": 34
    },
    "colab_type": "code",
    "id": "DcH3vz1VRaC5",
    "outputId": "d4651ca5-df9a-4691-bcb7-69f8c3d24f26"
   },
   "outputs": [
    {
     "data": {
      "text/plain": [
       "(25000, 300)"
      ]
     },
     "execution_count": 10,
     "metadata": {
      "tags": []
     },
     "output_type": "execute_result"
    }
   ],
   "source": [
    "x_train.shape #number of examples, number or words"
   ]
  },
  {
   "cell_type": "code",
   "execution_count": 0,
   "metadata": {
    "colab": {
     "base_uri": "https://localhost:8080/",
     "height": 493
    },
    "colab_type": "code",
    "id": "saH1GzfmRaC8",
    "outputId": "5dfd2ef3-14cc-4332-9dc9-24eadceb5216"
   },
   "outputs": [
    {
     "data": {
      "text/plain": [
       "array([   0,    0,    0,    0,    0,    0,    0,    0,    0,    0,    0,\n",
       "          0,    0,    0,    0,    0,    0,    0,    0,    0,    0,    0,\n",
       "          0,    0,    0,    0,    0,    0,    0,    0,    0,    0,    0,\n",
       "          0,    0,    0,    0,    0,    0,    0,    0,    0,    0,    0,\n",
       "          0,    0,    0,    0,    0,    0,    0,    0,    0,    0,    0,\n",
       "          0,    0,    0,    0,    0,    0,    0,    0,    0,    0,    0,\n",
       "          0,    0,    0,    0,    0,    0,    0,    0,    0,    0,    0,\n",
       "          0,    0,    0,    0,    0,    0,    0,    0,    0,    0,    0,\n",
       "          0,    0,    0,    0,    0,    0,    0,    0,    0,    0,    0,\n",
       "          0,    0,    0,    0,    0,    0,    0,    0,    0,    0,    0,\n",
       "          0,    1,  194, 1153,  194, 8255,   78,  228,    5,    6, 1463,\n",
       "       4369, 5012,  134,   26,    4,  715,    8,  118, 1634,   14,  394,\n",
       "         20,   13,  119,  954,  189,  102,    5,  207,  110, 3103,   21,\n",
       "         14,   69,  188,    8,   30,   23,    7,    4,  249,  126,   93,\n",
       "          4,  114,    9, 2300, 1523,    5,  647,    4,  116,    9,   35,\n",
       "       8163,    4,  229,    9,  340, 1322,    4,  118,    9,    4,  130,\n",
       "       4901,   19,    4, 1002,    5,   89,   29,  952,   46,   37,    4,\n",
       "        455,    9,   45,   43,   38, 1543, 1905,  398,    4, 1649,   26,\n",
       "       6853,    5,  163,   11, 3215,    2,    4, 1153,    9,  194,  775,\n",
       "          7, 8255,    2,  349, 2637,  148,  605,    2, 8003,   15,  123,\n",
       "        125,   68,    2, 6853,   15,  349,  165, 4362,   98,    5,    4,\n",
       "        228,    9,   43,    2, 1157,   15,  299,  120,    5,  120,  174,\n",
       "         11,  220,  175,  136,   50,    9, 4373,  228, 8255,    5,    2,\n",
       "        656,  245, 2350,    5,    4, 9837,  131,  152,  491,   18,    2,\n",
       "         32, 7464, 1212,   14,    9,    6,  371,   78,   22,  625,   64,\n",
       "       1382,    9,    8,  168,  145,   23,    4, 1690,   15,   16,    4,\n",
       "       1355,    5,   28,    6,   52,  154,  462,   33,   89,   78,  285,\n",
       "         16,  145,   95], dtype=int32)"
      ]
     },
     "execution_count": 11,
     "metadata": {
      "tags": []
     },
     "output_type": "execute_result"
    }
   ],
   "source": [
    "x_train[1] # words are representedby numbers"
   ]
  },
  {
   "cell_type": "code",
   "execution_count": 0,
   "metadata": {
    "colab": {
     "base_uri": "https://localhost:8080/",
     "height": 34
    },
    "colab_type": "code",
    "id": "t3tho0D1RaC-",
    "outputId": "4421965a-4b7a-4331-edc6-3e19233925b3"
   },
   "outputs": [
    {
     "data": {
      "text/plain": [
       "(25000,)"
      ]
     },
     "execution_count": 12,
     "metadata": {
      "tags": []
     },
     "output_type": "execute_result"
    }
   ],
   "source": [
    "y_train.shape "
   ]
  },
  {
   "cell_type": "code",
   "execution_count": 0,
   "metadata": {
    "colab": {
     "base_uri": "https://localhost:8080/",
     "height": 34
    },
    "colab_type": "code",
    "id": "NYjQFmhMRaDD",
    "outputId": "94cd5dd8-26df-4afa-9710-615442d778f2"
   },
   "outputs": [
    {
     "data": {
      "text/plain": [
       "(25000,)"
      ]
     },
     "execution_count": 13,
     "metadata": {
      "tags": []
     },
     "output_type": "execute_result"
    }
   ],
   "source": [
    "y_test.shape"
   ]
  },
  {
   "cell_type": "code",
   "execution_count": 0,
   "metadata": {
    "colab": {
     "base_uri": "https://localhost:8080/",
     "height": 493
    },
    "colab_type": "code",
    "id": "ro7vBzg-jD4j",
    "outputId": "0234553b-90ac-4383-8984-ba68c4ee222e"
   },
   "outputs": [
    {
     "data": {
      "text/plain": [
       "array([   0,    0,    0,    0,    0,    0,    0,    0,    0,    0,    0,\n",
       "          0,    0,    0,    0,    0,    0,    0,    0,    0,    0,    0,\n",
       "          0,    0,    0,    0,    0,    0,    0,    0,    0,    0,    0,\n",
       "          0,    0,    0,    0,    0,    0,    0,    1,   14,   22, 3443,\n",
       "          6,  176,    7, 5063,   88,   12, 2679,   23, 1310,    5,  109,\n",
       "        943,    4,  114,    9,   55,  606,    5,  111,    7,    4,  139,\n",
       "        193,  273,   23,    4,  172,  270,   11, 7216,    2,    4, 8463,\n",
       "       2801,  109, 1603,   21,    4,   22, 3861,    8,    6, 1193, 1330,\n",
       "         10,   10,    4,  105,  987,   35,  841,    2,   19,  861, 1074,\n",
       "          5, 1987,    2,   45,   55,  221,   15,  670, 5304,  526,   14,\n",
       "       1069,    4,  405,    5, 2438,    7,   27,   85,  108,  131,    4,\n",
       "       5045, 5304, 3884,  405,    9, 3523,  133,    5,   50,   13,  104,\n",
       "         51,   66,  166,   14,   22,  157,    9,    4,  530,  239,   34,\n",
       "       8463, 2801,   45,  407,   31,    7,   41, 3778,  105,   21,   59,\n",
       "        299,   12,   38,  950,    5, 4521,   15,   45,  629,  488, 2733,\n",
       "        127,    6,   52,  292,   17,    4, 6936,  185,  132, 1988, 5304,\n",
       "       1799,  488, 2693,   47,    6,  392,  173,    4,    2, 4378,  270,\n",
       "       2352,    4, 1500,    7,    4,   65,   55,   73,   11,  346,   14,\n",
       "         20,    9,    6,  976, 2078,    7, 5293,  861,    2,    5, 4182,\n",
       "         30, 3127,    2,   56,    4,  841,    5,  990,  692,    8,    4,\n",
       "       1669,  398,  229,   10,   10,   13, 2822,  670, 5304,   14,    9,\n",
       "         31,    7,   27,  111,  108,   15, 2033,   19, 7836, 1429,  875,\n",
       "        551,   14,   22,    9, 1193,   21,   45, 4829,    5,   45,  252,\n",
       "          8,    2,    6,  565,  921, 3639,   39,    4,  529,   48,   25,\n",
       "        181,    8,   67,   35, 1732,   22,   49,  238,   60,  135, 1162,\n",
       "         14,    9,  290,    4,   58,   10,   10,  472,   45,   55,  878,\n",
       "          8,  169,   11,  374, 5687,   25,  203,   28,    8,  818,   12,\n",
       "        125,    4, 3077], dtype=int32)"
      ]
     },
     "execution_count": 24,
     "metadata": {
      "tags": []
     },
     "output_type": "execute_result"
    }
   ],
   "source": [
    "x_test[1]"
   ]
  },
  {
   "cell_type": "markdown",
   "metadata": {},
   "source": [
    "#### Step 3: Trainig model:"
   ]
  },
  {
   "cell_type": "code",
   "execution_count": 0,
   "metadata": {
    "colab": {
     "base_uri": "https://localhost:8080/",
     "height": 221
    },
    "colab_type": "code",
    "id": "yQqxiRfURaDI",
    "outputId": "10f185df-58cf-4f1a-efa1-6846b25a178b"
   },
   "outputs": [
    {
     "name": "stdout",
     "output_type": "stream",
     "text": [
      "Train on 25000 samples, validate on 25000 samples\n",
      "Epoch 1/5\n",
      "25000/25000 [==============================] - 173s 7ms/step - loss: 0.3865 - acc: 0.8096 - val_loss: 0.3057 - val_acc: 0.8692\n",
      "Epoch 2/5\n",
      "25000/25000 [==============================] - 169s 7ms/step - loss: 0.1861 - acc: 0.9285 - val_loss: 0.2952 - val_acc: 0.8773\n",
      "Epoch 3/5\n",
      "25000/25000 [==============================] - 172s 7ms/step - loss: 0.0936 - acc: 0.9677 - val_loss: 0.3896 - val_acc: 0.8636\n",
      "Epoch 4/5\n",
      "25000/25000 [==============================] - 171s 7ms/step - loss: 0.0339 - acc: 0.9886 - val_loss: 0.5582 - val_acc: 0.8580\n",
      "Epoch 5/5\n",
      "25000/25000 [==============================] - 170s 7ms/step - loss: 0.0143 - acc: 0.9954 - val_loss: 0.8053 - val_acc: 0.8598\n",
      "Time spent: 1262.687027\n"
     ]
    }
   ],
   "source": [
    "start = time.clock()\n",
    "history = model.fit(x_train, y_train, epochs=5, batch_size=128, validation_data=(x_test, y_test))\n",
    "end = time.clock()\n",
    "print('Time spent:', end-start)"
   ]
  },
  {
   "cell_type": "code",
   "execution_count": 0,
   "metadata": {
    "colab": {
     "base_uri": "https://localhost:8080/",
     "height": 119
    },
    "colab_type": "code",
    "id": "Lwc1ev3fRaDL",
    "outputId": "da89911d-57ba-4bce-96c1-909de59e35a6"
   },
   "outputs": [
    {
     "data": {
      "text/plain": [
       "[<keras.layers.embeddings.Embedding at 0x7f34e9841f98>,\n",
       " <keras.layers.recurrent.LSTM at 0x7f34e9761c50>,\n",
       " <keras.layers.wrappers.TimeDistributed at 0x7f34e961ad68>,\n",
       " <keras.layers.core.Flatten at 0x7f34e975d898>,\n",
       " <keras.layers.core.Dense at 0x7f34e95ffeb8>,\n",
       " <keras.layers.core.Dense at 0x7f34e9630b70>]"
      ]
     },
     "execution_count": 15,
     "metadata": {
      "tags": []
     },
     "output_type": "execute_result"
    }
   ],
   "source": [
    "model.layers #get all layers from model"
   ]
  },
  {
   "cell_type": "markdown",
   "metadata": {},
   "source": [
    "#### Step 4: Evaluating Model"
   ]
  },
  {
   "cell_type": "code",
   "execution_count": 0,
   "metadata": {
    "colab": {
     "base_uri": "https://localhost:8080/",
     "height": 34
    },
    "colab_type": "code",
    "id": "EUqY-bD8RaDR",
    "outputId": "50c683f6-fd80-467c-ba9e-6011638bb369"
   },
   "outputs": [
    {
     "name": "stdout",
     "output_type": "stream",
     "text": [
      "25000/25000 [==============================] - 184s 7ms/step\n"
     ]
    }
   ],
   "source": [
    "score = model.evaluate(x_test, y_test)"
   ]
  },
  {
   "cell_type": "code",
   "execution_count": 0,
   "metadata": {
    "colab": {
     "base_uri": "https://localhost:8080/",
     "height": 34
    },
    "colab_type": "code",
    "id": "CGBt5LQ6hREL",
    "outputId": "f9b70595-23da-4c31-a123-da7c09cf8fa1"
   },
   "outputs": [
    {
     "data": {
      "text/plain": [
       "[0.8053167874073982, 0.85976]"
      ]
     },
     "execution_count": 18,
     "metadata": {
      "tags": []
     },
     "output_type": "execute_result"
    }
   ],
   "source": [
    "score"
   ]
  },
  {
   "cell_type": "code",
   "execution_count": 0,
   "metadata": {
    "colab": {
     "base_uri": "https://localhost:8080/",
     "height": 51
    },
    "colab_type": "code",
    "id": "ufQDK2lMRaDX",
    "outputId": "3eb7fd10-e661-46e0-b398-95a354c307c5"
   },
   "outputs": [
    {
     "name": "stdout",
     "output_type": "stream",
     "text": [
      "\n",
      "Test Acc: 85.98%\n"
     ]
    }
   ],
   "source": [
    "print('\\nTest Acc: %.2f%%' %(score[1]*100))"
   ]
  },
  {
   "cell_type": "code",
   "execution_count": 0,
   "metadata": {
    "colab": {
     "base_uri": "https://localhost:8080/",
     "height": 34
    },
    "colab_type": "code",
    "id": "-AopyG1lT0x9",
    "outputId": "c8ed1149-6413-406d-f9d7-d1fcd8a26629"
   },
   "outputs": [
    {
     "data": {
      "text/plain": [
       "<tf.Tensor 'embedding_3/embedding_lookup/Identity:0' shape=(?, 300, 100) dtype=float32>"
      ]
     },
     "execution_count": 21,
     "metadata": {
      "tags": []
     },
     "output_type": "execute_result"
    }
   ],
   "source": [
    "model.layers[0].output"
   ]
  },
  {
   "cell_type": "code",
   "execution_count": 0,
   "metadata": {
    "colab": {
     "base_uri": "https://localhost:8080/",
     "height": 34
    },
    "colab_type": "code",
    "id": "6dSbdnhSiwaM",
    "outputId": "28650d37-b670-4986-97f8-9f74dec19623"
   },
   "outputs": [
    {
     "data": {
      "text/plain": [
       "array([[0.00787853]], dtype=float32)"
      ]
     },
     "execution_count": 30,
     "metadata": {
      "tags": []
     },
     "output_type": "execute_result"
    }
   ],
   "source": [
    "import numpy as np\n",
    "model.predict(np.array([x_test[11],]))"
   ]
  },
  {
   "cell_type": "code",
   "execution_count": 0,
   "metadata": {
    "colab": {
     "base_uri": "https://localhost:8080/",
     "height": 34
    },
    "colab_type": "code",
    "id": "UnUVcNVWi8mQ",
    "outputId": "072ee60d-0a4d-43be-a7b5-421fac040b3b"
   },
   "outputs": [
    {
     "data": {
      "text/plain": [
       "<tf.Tensor 'dense_3/Relu:0' shape=(?, 250) dtype=float32>"
      ]
     },
     "execution_count": 44,
     "metadata": {
      "tags": []
     },
     "output_type": "execute_result"
    }
   ],
   "source": [
    "model.layers[4].output"
   ]
  },
  {
   "cell_type": "code",
   "execution_count": 0,
   "metadata": {
    "colab": {
     "base_uri": "https://localhost:8080/",
     "height": 34
    },
    "colab_type": "code",
    "id": "QqHw3glbj7xy",
    "outputId": "172e6c9a-1da9-41b0-9b15-07b244199324"
   },
   "outputs": [
    {
     "data": {
      "text/plain": [
       "<tf.Tensor 'dense_3/Relu:0' shape=(?, 250) dtype=float32>"
      ]
     },
     "execution_count": 54,
     "metadata": {
      "tags": []
     },
     "output_type": "execute_result"
    }
   ],
   "source": [
    "model.layers[4].output"
   ]
  },
  {
   "cell_type": "code",
   "execution_count": 0,
   "metadata": {
    "colab": {
     "base_uri": "https://localhost:8080/",
     "height": 34
    },
    "colab_type": "code",
    "id": "0P_mbGhflgi1",
    "outputId": "d0fd562b-b1d5-4ac5-a54d-b4af1a568344"
   },
   "outputs": [
    {
     "name": "stdout",
     "output_type": "stream",
     "text": [
      "100\n"
     ]
    }
   ],
   "source": [
    "from keras import backend as K\n",
    "\n",
    "inp = model.input                                           # input placeholder\n",
    "outputs = [layer.output for layer in model.layers]          # all layer outputs\n",
    "functors = [K.function([inp, K.learning_phase()], [out]) for out in outputs]    # evaluation functions\n",
    "\n",
    "# Testing\n",
    "test = np.array([x_test[11],])\n",
    "layer_outs = [func([test, 1.]) for func in functors]\n",
    "print(len(layer_outs[0][0][0][0]))"
   ]
  }
 ],
 "metadata": {
  "accelerator": "GPU",
  "colab": {
   "collapsed_sections": [],
   "name": "Sentiment_Classification_using_Sequential_Models.ipynb",
   "provenance": [],
   "version": "0.3.2"
  },
  "kernelspec": {
   "display_name": "Python 3",
   "language": "python",
   "name": "python3"
  },
  "language_info": {
   "codemirror_mode": {
    "name": "ipython",
    "version": 3
   },
   "file_extension": ".py",
   "mimetype": "text/x-python",
   "name": "python",
   "nbconvert_exporter": "python",
   "pygments_lexer": "ipython3",
   "version": "3.7.4"
  }
 },
 "nbformat": 4,
 "nbformat_minor": 1
}
